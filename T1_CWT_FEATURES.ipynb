{
 "cells": [
  {
   "cell_type": "code",
   "execution_count": null,
   "metadata": {},
   "outputs": [],
   "source": [
    "\"\"\"Importing libraries and reading in the test data\"\"\"\n",
    "import mne\n",
    "import pandas as pd\n",
    "import numpy as np\n",
    "from statistics import mean\n",
    "import plotly.graph_objects as go\n",
    "from plotly.subplots import make_subplots\n",
    "import plotly.express as px\n",
    "import matplotlib.pyplot as plt\n",
    "import pywt\n",
    "from entropy import*\n",
    "from scipy.stats import entropy\n",
    "import math"
   ]
  },
  {
   "cell_type": "code",
   "execution_count": null,
   "metadata": {},
   "outputs": [],
   "source": [
    "\"\"\"\n",
    "\n",
    "THE WAY THIS NOTEBOOK IS LAYED OUT IS AS FOLLOWS:\n",
    "\n",
    "1ST: THE TRAINING DATA IS LOADED AND COMBINED INTO 1 DATAFRAME\n",
    "\n",
    "2ND: CWT IS PERFORMED AND THEN COEFFICIENTS PLOTTED.\n",
    "\n",
    "3RD: MOVING WINDOW AVERAGE PERMUTATION ENTROPY FOR THE COEFFICIENCTS IS CALCUATED AND PLOTTED.\n",
    "\n",
    "4TH: MOVING WINDOW AVERAGE HIGUCHI FRACTAL DIMENSION FOR THE COEFFICIENCTS IS CALCUATED AND PLOTTED.\n",
    "\n",
    "5TH: OPTIMAL FEATURES FROM SUB-BAND COEFFICIENTS ARE SELECTED AND JOINED IN A DATAFRAME\n",
    "\n",
    "6TH: TRAINING DATA IS PASSED TO CV LASSO REGRESSION MODEL\n",
    "\n",
    "7TH: TEST DATA IS LOADED AND JOINED\n",
    "\n",
    "8TH: TEST DATA PASSED TO TRAINED MODEL\n",
    "\n",
    "9TH: MODEL PERFORMANCE EVALUATED WITH MSE,RMSE,MAE\n",
    "\n",
    "\"\"\""
   ]
  },
  {
   "cell_type": "code",
   "execution_count": null,
   "metadata": {},
   "outputs": [],
   "source": [
    "t1 = pd.read_excel('/Users/colin/Desktop/UNI STUFF/MSC8002 Thesis PT 2/Train.xlsx', sheet_name = 0)"
   ]
  },
  {
   "cell_type": "code",
   "execution_count": null,
   "metadata": {},
   "outputs": [],
   "source": []
  },
  {
   "cell_type": "code",
   "execution_count": null,
   "metadata": {},
   "outputs": [],
   "source": [
    "\"\"\"SIGNAL 1 TRANSFORM, EXTRACTION, WRITTEN TO XSXL FOR CH2 & X\"\"\""
   ]
  },
  {
   "cell_type": "code",
   "execution_count": null,
   "metadata": {},
   "outputs": [],
   "source": [
    "\"\"\"Setting T1 CH2 & X signals to numpy array\"\"\"\n",
    "ch2 = t1.CH2.to_numpy()\n",
    "sx = t1.X.to_numpy()"
   ]
  },
  {
   "cell_type": "code",
   "execution_count": null,
   "metadata": {},
   "outputs": [],
   "source": [
    "\"\"\"Printing available wavelets\"\"\"\n",
    "wavlist = pywt.wavelist(kind='continuous')\n",
    "print(wavlist)"
   ]
  },
  {
   "cell_type": "code",
   "execution_count": null,
   "metadata": {},
   "outputs": [],
   "source": [
    "\"\"\"Performing CWT on CH2 signal with 6 scales and using the Mexican Hat wavelet\"\"\"\n",
    "#t = np.linspace(0,10,451584)\n",
    "# Start = 0 \n",
    "# End = 10 \n",
    "# Samples to generate \n",
    "\n",
    "t1ch2signal = ch2\n",
    "t1ch2scales = np.arange(1,6) #of scales\n",
    "\n",
    "\n",
    "t1coefs, t1freqs = pywt.cwt(t1ch2signal, t1ch2scales, 'mexh')\n",
    "# coefs -> stores all of the coefficients\n",
    "# freqs -> stores all of the wavelet frequencies"
   ]
  },
  {
   "cell_type": "code",
   "execution_count": null,
   "metadata": {},
   "outputs": [],
   "source": [
    "\"\"\"Subplots of Continuous Wavelet Transform coefficients\"\"\"\n",
    "\n",
    "fig1 = make_subplots(rows = 2, cols = 3, start_cell = 'top-left', subplot_titles=(\"coef1\", \"coef2\", \"coef3\", \"coef4\", \"coef5\", \"Original Signal\"))\n",
    "fig1.append_trace(go.Line(y = t1coefs[0], name = 'coef1'), 1,1)\n",
    "fig1.append_trace(go.Line(y = t1coefs[1], name = 'coef2'), 1,2)\n",
    "fig1.append_trace(go.Line(y = t1coefs[2], name = 'coef3'), 1,3)\n",
    "fig1.append_trace(go.Line(y = t1coefs[3], name = 'coef4'), 2,1)\n",
    "fig1.append_trace(go.Line(y = t1coefs[4], name = 'coef5'), 2,2)\n",
    "fig1.append_trace(go.Line(y = t1.CH2, name = 'Original Ch2 Signal'), 2,3)\n",
    "fig1.update_layout(title=\"Continuous Wavelet Transform t1 CH2 Coefficients\")\n",
    "\n",
    "fig1.show()"
   ]
  },
  {
   "cell_type": "code",
   "execution_count": null,
   "metadata": {},
   "outputs": [],
   "source": [
    "\"\"\"CALCULATING THE MOVING WINDOW AVERAGE PERMUTATION ENTROPY FOR T1 CH2 CWT SUB-BANDS\"\"\""
   ]
  },
  {
   "cell_type": "code",
   "execution_count": null,
   "metadata": {},
   "outputs": [],
   "source": [
    "\"\"\" coef1 permutation entropy\"\"\"\n",
    "t1coef1PE = []\n",
    "for i in range(0,len(t1coefs[0]), 128):\n",
    "    t1coef1PE.append(perm_entropy(t1coefs[0][i:i+128], normalize=True))"
   ]
  },
  {
   "cell_type": "code",
   "execution_count": null,
   "metadata": {},
   "outputs": [],
   "source": [
    "\"\"\"Moving Window Average for coef1 Permutation Entropy\"\"\"\n",
    "t1avg_coef1PE = []\n",
    "for i in range(0, len(t1coef1PE)-56, 1):\n",
    "    t1avg_coef1PE.append(mean(t1coef1PE[i:i+56]))"
   ]
  },
  {
   "cell_type": "code",
   "execution_count": null,
   "metadata": {},
   "outputs": [],
   "source": [
    "\"\"\" coef2 permutation entropy\"\"\"\n",
    "t1coef2PE = []\n",
    "for i in range(0,len(t1coefs[1]), 128):\n",
    "    t1coef2PE.append(perm_entropy(t1coefs[1][i:i+128], normalize=True))"
   ]
  },
  {
   "cell_type": "code",
   "execution_count": null,
   "metadata": {},
   "outputs": [],
   "source": [
    "\"\"\"Moving Window Average for coef2 Permutation Entropy\"\"\"\n",
    "t1avg_coef2PE = []\n",
    "for i in range(0, len(t1coef2PE)-56, 1):\n",
    "    t1avg_coef2PE.append(mean(t1coef2PE[i:i+56]))"
   ]
  },
  {
   "cell_type": "code",
   "execution_count": null,
   "metadata": {},
   "outputs": [],
   "source": [
    "\"\"\" coef3 permutation entropy\"\"\"\n",
    "t1coef3PE = []\n",
    "for i in range(0,len(t1coefs[2]), 128):\n",
    "    t1coef3PE.append(perm_entropy(t1coefs[2][i:i+128], normalize=True))"
   ]
  },
  {
   "cell_type": "code",
   "execution_count": null,
   "metadata": {},
   "outputs": [],
   "source": [
    "\"\"\"Moving Window Average for coef3 Permutation Entropy\"\"\"\n",
    "t1avg_coef3PE = []\n",
    "for i in range(0, len(t1coef3PE)-56, 1):\n",
    "    t1avg_coef3PE.append(mean(t1coef3PE[i:i+56]))"
   ]
  },
  {
   "cell_type": "code",
   "execution_count": null,
   "metadata": {},
   "outputs": [],
   "source": [
    "\"\"\" coef4 permutation entropy\"\"\"\n",
    "t1coef4PE = []\n",
    "for i in range(0,len(t1coefs[3]), 128):\n",
    "    t1coef4PE.append(perm_entropy(t1coefs[3][i:i+128], normalize=True))"
   ]
  },
  {
   "cell_type": "code",
   "execution_count": null,
   "metadata": {},
   "outputs": [],
   "source": [
    "\"\"\"Moving Window Average for cD4 Permutation Entropy\"\"\"\n",
    "t1avg_coef4PE = []\n",
    "for i in range(0, len(t1coef4PE)-56, 1):\n",
    "    t1avg_coef4PE.append(mean(t1coef4PE[i:i+56]))"
   ]
  },
  {
   "cell_type": "code",
   "execution_count": null,
   "metadata": {},
   "outputs": [],
   "source": [
    "\"\"\" coef5 permutation entropy\"\"\"\n",
    "t1coef5PE = []\n",
    "for i in range(0,len(t1coefs[4]), 128):\n",
    "    t1coef5PE.append(perm_entropy(t1coefs[4][i:i+128], normalize=True))"
   ]
  },
  {
   "cell_type": "code",
   "execution_count": null,
   "metadata": {},
   "outputs": [],
   "source": [
    "\"\"\"Moving Window Average for cD5 Permutation Entropy\"\"\"\n",
    "t1avg_coef5PE = []\n",
    "for i in range(0, len(t1coef5PE)-56, 1):\n",
    "    t1avg_coef5PE.append(mean(t1coef5PE[i:i+56]))"
   ]
  },
  {
   "cell_type": "code",
   "execution_count": null,
   "metadata": {},
   "outputs": [],
   "source": [
    "\"\"\"Matrix of Continuous Wavelet Transform coefficients Permutation Entropy\"\"\"\n",
    "\n",
    "fig2 = make_subplots(rows = 2, cols = 3, start_cell = 'top-left', subplot_titles=(\"Avg coef1 PE\",\"Avg coef2 PE\",\"Avg coef3 PE\",\"Avg coef4 PE\",\"Avg coef5 PE\", \"BIS\"))\n",
    "fig2.append_trace(go.Line(y = t1avg_coef1PE, name = 'Coef1 PE'), 1,1)\n",
    "fig2.append_trace(go.Line(y = t1avg_coef2PE, name = 'Coef2 PE'), 1,2)\n",
    "fig2.append_trace(go.Line(y = t1avg_coef3PE, name = 'Coef3 PE'), 1,3)\n",
    "fig2.append_trace(go.Line(y = t1avg_coef4PE, name = 'Coef4 PE'), 2,1)\n",
    "fig2.append_trace(go.Line(y = t1avg_coef5PE, name = 'Coef5 PE'), 2,2)\n",
    "fig2.append_trace(go.Line(y = t1.BIS[0:3535:], name = 'BIS'), 2,3)\n",
    "\n",
    "fig2.update_layout(title=\"Continuous Wavelet Transform t1 CH2 Coefficients 56 Sec Window Average Perm Entropy\")\n",
    "\n",
    "fig2.show()"
   ]
  },
  {
   "cell_type": "code",
   "execution_count": null,
   "metadata": {},
   "outputs": [],
   "source": [
    "\"\"\"CALCULATING THE MOVING WINDOW AVERAGE Higuchi Fractal Dimension FOR THE CH2 CWT SUB-BANDS\"\"\""
   ]
  },
  {
   "cell_type": "code",
   "execution_count": null,
   "metadata": {},
   "outputs": [],
   "source": [
    "\"\"\"coef1 Higuchi Fractal Dimension\"\"\"\n",
    "t1coef1HFD = []\n",
    "for i in range(0,len(t1coefs[0]), 128):\n",
    "    t1coef1HFD.append(higuchi_fd(t1coefs[0][i:i+128], kmax = 10))"
   ]
  },
  {
   "cell_type": "code",
   "execution_count": null,
   "metadata": {},
   "outputs": [],
   "source": [
    "\"\"\"Moving Window Average for coef1 Higuchi Fractal Dimension\"\"\"\n",
    "t1avg_coef1HFD = []\n",
    "for i in range(0, len(t1coef1HFD)-56, 1):\n",
    "    t1avg_coef1HFD.append(mean(t1coef1HFD[i:i+56]))"
   ]
  },
  {
   "cell_type": "code",
   "execution_count": null,
   "metadata": {},
   "outputs": [],
   "source": [
    "\"\"\"coef2 Higuchi Fractal Dimension\"\"\"\n",
    "t1coef2HFD = []\n",
    "for i in range(0,len(t1coefs[1]), 128):\n",
    "    t1coef2HFD.append(higuchi_fd(t1coefs[1][i:i+128], kmax = 10))"
   ]
  },
  {
   "cell_type": "code",
   "execution_count": null,
   "metadata": {},
   "outputs": [],
   "source": [
    "\"\"\"Moving Window Average for coef2 Higuchi Fractal Dimension\"\"\"\n",
    "t1avg_coef2HFD = []\n",
    "for i in range(0, len(t1coef2HFD)-56, 1):\n",
    "    t1avg_coef2HFD.append(mean(t1coef2HFD[i:i+56]))"
   ]
  },
  {
   "cell_type": "code",
   "execution_count": null,
   "metadata": {},
   "outputs": [],
   "source": [
    "\"\"\"coef3 Higuchi Fractal Dimension\"\"\"\n",
    "t1coef3HFD = []\n",
    "for i in range(0,len(t1coefs[2]), 128):\n",
    "    t1coef3HFD.append(higuchi_fd(t1coefs[2][i:i+128], kmax = 10))"
   ]
  },
  {
   "cell_type": "code",
   "execution_count": null,
   "metadata": {},
   "outputs": [],
   "source": [
    "\"\"\"Moving Window Average for coef3 Higuchi Fractal Dimension\"\"\"\n",
    "t1avg_coef3HFD = []\n",
    "for i in range(0, len(t1coef3HFD)-56, 1):\n",
    "    t1avg_coef3HFD.append(mean(t1coef3HFD[i:i+56]))"
   ]
  },
  {
   "cell_type": "code",
   "execution_count": null,
   "metadata": {},
   "outputs": [],
   "source": [
    "\"\"\"coef4 Higuchi Fractal Dimension\"\"\"\n",
    "t1coef4HFD = []\n",
    "for i in range(0,len(t1coefs[3]), 128):\n",
    "    t1coef4HFD.append(higuchi_fd(t1coefs[3][i:i+128], kmax = 10))"
   ]
  },
  {
   "cell_type": "code",
   "execution_count": null,
   "metadata": {},
   "outputs": [],
   "source": [
    "\"\"\"Moving Window Average for coef4 Higuchi Fractal Dimension\"\"\"\n",
    "t1avg_coef4HFD = []\n",
    "for i in range(0, len(t1coef4HFD)-56, 1):\n",
    "    t1avg_coef4HFD.append(mean(t1coef4HFD[i:i+56]))"
   ]
  },
  {
   "cell_type": "code",
   "execution_count": null,
   "metadata": {},
   "outputs": [],
   "source": [
    "\"\"\"coef5 Higuchi Fractal Dimension\"\"\"\n",
    "t1coef5HFD = []\n",
    "for i in range(0,len(t1coefs[4]), 128):\n",
    "    t1coef5HFD.append(higuchi_fd(t1coefs[4][i:i+128], kmax = 10))"
   ]
  },
  {
   "cell_type": "code",
   "execution_count": null,
   "metadata": {},
   "outputs": [],
   "source": [
    "\"\"\"Moving Window Average for coef5 Higuchi Fractal Dimension\"\"\"\n",
    "t1avg_coef5HFD = []\n",
    "for i in range(0, len(t1coef5HFD)-56, 1):\n",
    "    t1avg_coef5HFD.append(mean(t1coef5HFD[i:i+56]))"
   ]
  },
  {
   "cell_type": "code",
   "execution_count": null,
   "metadata": {},
   "outputs": [],
   "source": [
    "\"\"\"Matrix of Continuous Wavelet Transform CH2 coefficients Higuchi Fractal Dimension\"\"\"\n",
    "\n",
    "fig3 = make_subplots(rows = 2, cols = 3, start_cell = 'top-left', subplot_titles=(\"Avg coef1 HFD\",\"Avg coef2 HFD\",\"Avg coef3 HFD\",\"Avg coef4 HFD\",\"Avg coef5 HFD\", \"BIS\"))\n",
    "fig3.append_trace(go.Line(y = t1avg_coef1HFD, name = 'Coef1 HFD'), 1,1)\n",
    "fig3.append_trace(go.Line(y = t1avg_coef2HFD, name = 'Coef2 HFD'), 1,2)\n",
    "fig3.append_trace(go.Line(y = t1avg_coef3HFD, name = 'Coef3 HFD'), 1,3)\n",
    "fig3.append_trace(go.Line(y = t1avg_coef4HFD, name = 'Coef4 HFD'), 2,1)\n",
    "fig3.append_trace(go.Line(y = t1avg_coef5HFD, name = 'Coef5 HFD'), 2,2)\n",
    "fig3.append_trace(go.Line(y = t1.BIS[0:3535:], name = 'BIS'), 2,3)\n",
    "\n",
    "fig3.update_layout(title=\"Continuous Wavelet Transform t1 CH2 Coefficients 56 Sec Window Average Higuchi Fractal Dimension\")\n",
    "\n",
    "fig3.show()"
   ]
  },
  {
   "cell_type": "code",
   "execution_count": null,
   "metadata": {},
   "outputs": [],
   "source": [
    "\"\"\"COEF 3&4 SAMPLE ENTROPY\"\"\"\n",
    "\n",
    "\"\"\"coef3 sample entropy\"\"\"\n",
    "coef3SampE = []\n",
    "for i in range(0,len(t1coefs[2]), 128):\n",
    "    coef3SampE.append(sample_entropy(t1coefs[2][i:i+128], metric='chebyshev'))\n",
    "    \n",
    "\"\"\"Moving Window Average for coef3 Sample Entropy\"\"\"\n",
    "avg_coef3SampE = []\n",
    "for i in range(0, len(coef3SampE)-56, 1):\n",
    "    avg_coef3SampE.append(mean(coef3SampE[i:i+56]))\n",
    "    \n",
    "\"\"\"coef4 sample entropy\"\"\"\n",
    "coef4SampE = []\n",
    "for i in range(0,len(t1coefs[3]), 128):\n",
    "    coef4SampE.append(sample_entropy(t1coefs[3][i:i+128], metric='chebyshev'))\n",
    "    \n",
    "\"\"\"Moving Window Average for coef4 Sample Entropy\"\"\"\n",
    "avg_coef4SampE = []\n",
    "for i in range(0, len(coef4SampE)-56, 1):\n",
    "    avg_coef4SampE.append(mean(coef4SampE[i:i+56]))"
   ]
  },
  {
   "cell_type": "code",
   "execution_count": null,
   "metadata": {},
   "outputs": [],
   "source": [
    "\"COEF 3&4 SPECTRAL ENTROPY\"\n",
    "\n",
    "\"\"\"coef3 Spectral entropy\"\"\"\n",
    "\"\"\"User warning is only based on library using 2-second epochs\"\"\"\n",
    "coef3SpecE = []\n",
    "for i in range(0,len(t1coefs[2]), 128):\n",
    "    coef3SpecE.append(spectral_entropy(t1coefs[2][i:i+128], sf = 128,method = 'welch', normalize=True))\n",
    "    \n",
    "\"\"\"Moving Window Average for coef3 Spectral Entropy\"\"\"\n",
    "avg_coef3SpecE = []\n",
    "for i in range(0, len(coef3SpecE)-56, 1):\n",
    "    avg_coef3SpecE.append(mean(coef3SpecE[i:i+56]))\n",
    "    \n",
    "\"\"\"coef4 Spectral entropy\"\"\"\n",
    "\"\"\"User warning is only based on library using 2-second epochs\"\"\"\n",
    "coef4SpecE = []\n",
    "for i in range(0,len(t1coefs[3]), 128):\n",
    "    coef4SpecE.append(spectral_entropy(t1coefs[3][i:i+128], sf = 128,method = 'welch', normalize=True))\n",
    "    \n",
    "\"\"\"Moving Window Average for coef4 Spectral Entropy\"\"\"\n",
    "avg_coef4SpecE = []\n",
    "for i in range(0, len(coef4SpecE)-56, 1):\n",
    "    avg_coef4SpecE.append(mean(coef4SpecE[i:i+56]))"
   ]
  },
  {
   "cell_type": "code",
   "execution_count": null,
   "metadata": {},
   "outputs": [],
   "source": [
    "\"\"\"WRITING THE NEW FEATURES TO XLSX\"\"\"\n",
    "new_features = pd.DataFrame(avg_coef4SampE)\n",
    "new_features['c4SampE'] = avg_coef4SpecE\n",
    "new_features['c3SampE'] = avg_coef3SampE\n",
    "new_features['c3SpecE'] = avg_coef3SpecE\n",
    "\n",
    "new_features.rename(columns = {0:'c4SampE'}, inplace = True)\n",
    "\n",
    "new_features.head()\n",
    "\n",
    "new_features.to_excel(\"New1.xlsx\", sheet_name='Case1', engine = 'xlsxwriter')"
   ]
  },
  {
   "cell_type": "code",
   "execution_count": null,
   "metadata": {},
   "outputs": [],
   "source": [
    "\"\"\"STOP HERE\"\"\"\n",
    "from"
   ]
  },
  {
   "cell_type": "code",
   "execution_count": null,
   "metadata": {},
   "outputs": [],
   "source": []
  },
  {
   "cell_type": "code",
   "execution_count": null,
   "metadata": {},
   "outputs": [],
   "source": []
  },
  {
   "cell_type": "code",
   "execution_count": null,
   "metadata": {},
   "outputs": [],
   "source": []
  },
  {
   "cell_type": "code",
   "execution_count": null,
   "metadata": {},
   "outputs": [],
   "source": []
  },
  {
   "cell_type": "code",
   "execution_count": null,
   "metadata": {},
   "outputs": [],
   "source": []
  },
  {
   "cell_type": "code",
   "execution_count": null,
   "metadata": {},
   "outputs": [],
   "source": [
    "\"\"\"CWT AND EXTRACTION FOR X\"\"\""
   ]
  },
  {
   "cell_type": "code",
   "execution_count": null,
   "metadata": {},
   "outputs": [],
   "source": [
    "\"\"\"CWT FOR X CHANNEL\"\"\"\n",
    "t1Xsignal = sx\n",
    "t1xscales = np.arange(1,6) #of scales\n",
    "\n",
    "\n",
    "t1xcoefs, t1xfreqs = pywt.cwt(t1Xsignal, t1xscales, 'mexh')\n",
    "# coefs -> stores all of the coefficients\n",
    "# freqs -> stores all of the wavelet frequencies"
   ]
  },
  {
   "cell_type": "code",
   "execution_count": null,
   "metadata": {},
   "outputs": [],
   "source": [
    "\"\"\"Subplots of Continuous Wavelet Transform coefficients\"\"\"\n",
    "\n",
    "fig4 = make_subplots(rows = 2, cols = 3, start_cell = 'top-left', subplot_titles=(\"coef1\", \"coef2\", \"coef3\", \"coef4\", \"coef5\", \"Original Signal\"))\n",
    "fig4.append_trace(go.Line(y = t1xcoefs[0], name = 'coef1'), 1,1)\n",
    "fig4.append_trace(go.Line(y = t1xcoefs[1], name = 'coef2'), 1,2)\n",
    "fig4.append_trace(go.Line(y = t1xcoefs[2], name = 'coef3'), 1,3)\n",
    "fig4.append_trace(go.Line(y = t1xcoefs[3], name = 'coef4'), 2,1)\n",
    "fig4.append_trace(go.Line(y = t1xcoefs[4], name = 'coef5'), 2,2)\n",
    "fig4.append_trace(go.Line(y = t1.X, name = 'Original Ch2 Signal'), 2,3)\n",
    "fig4.update_layout(title=\"Continuous Wavelet Transform t1 X Coefficients\")\n",
    "\n",
    "fig4.show()"
   ]
  },
  {
   "cell_type": "code",
   "execution_count": null,
   "metadata": {},
   "outputs": [],
   "source": [
    "\"\"\" coef1 permutation entropy\"\"\"\n",
    "t1xcoef1PE = []\n",
    "for i in range(0,len(t1xcoefs[0]), 128):\n",
    "    t1xcoef1PE.append(perm_entropy(t1xcoefs[0][i:i+128], normalize=True))"
   ]
  },
  {
   "cell_type": "code",
   "execution_count": null,
   "metadata": {},
   "outputs": [],
   "source": [
    "\"\"\"Moving Window Average for coef1 Permutation Entropy\"\"\"\n",
    "t1xavg_coef1PE = []\n",
    "for i in range(0, len(t1xcoef1PE)-56, 1):\n",
    "    t1xavg_coef1PE.append(mean(t1xcoef1PE[i:i+56]))"
   ]
  },
  {
   "cell_type": "code",
   "execution_count": null,
   "metadata": {},
   "outputs": [],
   "source": [
    "\"\"\" coef2 permutation entropy\"\"\"\n",
    "t1xcoef2PE = []\n",
    "for i in range(0,len(t1xcoefs[1]), 128):\n",
    "    t1xcoef2PE.append(perm_entropy(t1xcoefs[1][i:i+128], normalize=True))"
   ]
  },
  {
   "cell_type": "code",
   "execution_count": null,
   "metadata": {},
   "outputs": [],
   "source": [
    "\"\"\"Moving Window Average for coef2 Permutation Entropy\"\"\"\n",
    "t1xavg_coef2PE = []\n",
    "for i in range(0, len(t1xcoef2PE)-56, 1):\n",
    "    t1xavg_coef2PE.append(mean(t1xcoef2PE[i:i+56]))"
   ]
  },
  {
   "cell_type": "code",
   "execution_count": null,
   "metadata": {},
   "outputs": [],
   "source": [
    "\"\"\" coef3 permutation entropy\"\"\"\n",
    "t1xcoef3PE = []\n",
    "for i in range(0,len(t1xcoefs[2]), 128):\n",
    "    t1xcoef3PE.append(perm_entropy(t1xcoefs[2][i:i+128], normalize=True))"
   ]
  },
  {
   "cell_type": "code",
   "execution_count": null,
   "metadata": {},
   "outputs": [],
   "source": [
    "\"\"\"Moving Window Average for coef3 Permutation Entropy\"\"\"\n",
    "t1xavg_coef3PE = []\n",
    "for i in range(0, len(t1xcoef3PE)-56, 1):\n",
    "    t1xavg_coef3PE.append(mean(t1xcoef3PE[i:i+56]))"
   ]
  },
  {
   "cell_type": "code",
   "execution_count": null,
   "metadata": {},
   "outputs": [],
   "source": [
    "\"\"\" coef4 permutation entropy\"\"\"\n",
    "t1xcoef4PE = []\n",
    "for i in range(0,len(t1xcoefs[3]), 128):\n",
    "    t1xcoef4PE.append(perm_entropy(t1xcoefs[3][i:i+128], normalize=True))"
   ]
  },
  {
   "cell_type": "code",
   "execution_count": null,
   "metadata": {},
   "outputs": [],
   "source": [
    "\"\"\"Moving Window Average for cD4 Permutation Entropy\"\"\"\n",
    "t1xavg_coef4PE = []\n",
    "for i in range(0, len(t1xcoef4PE)-56, 1):\n",
    "    t1xavg_coef4PE.append(mean(t1xcoef4PE[i:i+56]))"
   ]
  },
  {
   "cell_type": "code",
   "execution_count": null,
   "metadata": {},
   "outputs": [],
   "source": [
    "\"\"\" coef5 permutation entropy\"\"\"\n",
    "t1xcoef5PE = []\n",
    "for i in range(0,len(t1xcoefs[4]), 128):\n",
    "    t1xcoef5PE.append(perm_entropy(t1xcoefs[4][i:i+128], normalize=True))"
   ]
  },
  {
   "cell_type": "code",
   "execution_count": null,
   "metadata": {},
   "outputs": [],
   "source": [
    "\"\"\"Moving Window Average for cD5 Permutation Entropy\"\"\"\n",
    "t1xavg_coef5PE = []\n",
    "for i in range(0, len(t1xcoef5PE)-56, 1):\n",
    "    t1xavg_coef5PE.append(mean(t1xcoef5PE[i:i+56]))"
   ]
  },
  {
   "cell_type": "code",
   "execution_count": null,
   "metadata": {},
   "outputs": [],
   "source": [
    "\"\"\"Matrix of Continuous Wavelet Transform coefficients Permutation Entropy\"\"\"\n",
    "\n",
    "fig5 = make_subplots(rows = 2, cols = 3, start_cell = 'top-left', subplot_titles=(\"Avg coef1 PE\",\"Avg coef2 PE\",\"Avg coef3 PE\",\"Avg coef4 PE\",\"Avg coef5 PE\", \"BIS\"))\n",
    "fig5.append_trace(go.Line(y = t1xavg_coef1PE, name = 'Coef1 PE'), 1,1)\n",
    "fig5.append_trace(go.Line(y = t1xavg_coef2PE, name = 'Coef2 PE'), 1,2)\n",
    "fig5.append_trace(go.Line(y = t1xavg_coef3PE, name = 'Coef3 PE'), 1,3)\n",
    "fig5.append_trace(go.Line(y = t1xavg_coef4PE, name = 'Coef4 PE'), 2,1)\n",
    "fig5.append_trace(go.Line(y = t1xavg_coef5PE, name = 'Coef5 PE'), 2,2)\n",
    "fig5.append_trace(go.Line(y = t1.BIS[0:3535:], name = 'BIS'), 2,3)\n",
    "\n",
    "fig5.update_layout(title=\"Continuous Wavelet Transform t1 X Coefficients 56 Sec Window Average Perm Entropy\")\n",
    "\n",
    "fig5.show()"
   ]
  },
  {
   "cell_type": "code",
   "execution_count": null,
   "metadata": {},
   "outputs": [],
   "source": [
    "\"\"\"CALCULATING THE MOVING WINDOW AVERAGE Higuchi Fractal Dimension FOR THE CH2 CWT SUB-BANDS\"\"\""
   ]
  },
  {
   "cell_type": "code",
   "execution_count": null,
   "metadata": {},
   "outputs": [],
   "source": []
  },
  {
   "cell_type": "code",
   "execution_count": null,
   "metadata": {},
   "outputs": [],
   "source": [
    "\"\"\"coef1 Higuchi Fractal Dimension\"\"\"\n",
    "t1xcoef1HFD = []\n",
    "for i in range(0,len(t1xcoefs[0]), 128):\n",
    "    t1xcoef1HFD.append(higuchi_fd(t1xcoefs[0][i:i+128], kmax = 10))"
   ]
  },
  {
   "cell_type": "code",
   "execution_count": null,
   "metadata": {},
   "outputs": [],
   "source": [
    "\"\"\"Moving Window Average for coef1 Higuchi Fractal Dimension\"\"\"\n",
    "t1xavg_coef1HFD = []\n",
    "for i in range(0, len(t1xcoef1HFD)-56, 1):\n",
    "    t1xavg_coef1HFD.append(mean(t1xcoef1HFD[i:i+56]))"
   ]
  },
  {
   "cell_type": "code",
   "execution_count": null,
   "metadata": {},
   "outputs": [],
   "source": [
    "\"\"\"coef2 Higuchi Fractal Dimension\"\"\"\n",
    "t1xcoef2HFD = []\n",
    "for i in range(0,len(t1xcoefs[1]), 128):\n",
    "    t1xcoef2HFD.append(higuchi_fd(t1xcoefs[1][i:i+128], kmax = 10))"
   ]
  },
  {
   "cell_type": "code",
   "execution_count": null,
   "metadata": {},
   "outputs": [],
   "source": [
    "\"\"\"Moving Window Average for coef2 Higuchi Fractal Dimension\"\"\"\n",
    "t1xavg_coef2HFD = []\n",
    "for i in range(0, len(t1xcoef2HFD)-56, 1):\n",
    "    t1xavg_coef2HFD.append(mean(t1xcoef2HFD[i:i+56]))"
   ]
  },
  {
   "cell_type": "code",
   "execution_count": null,
   "metadata": {},
   "outputs": [],
   "source": [
    "\"\"\"coef3 Higuchi Fractal Dimension\"\"\"\n",
    "t1xcoef3HFD = []\n",
    "for i in range(0,len(t1xcoefs[2]), 128):\n",
    "    t1xcoef3HFD.append(higuchi_fd(t1xcoefs[2][i:i+128], kmax = 10))"
   ]
  },
  {
   "cell_type": "code",
   "execution_count": null,
   "metadata": {},
   "outputs": [],
   "source": [
    "\"\"\"Moving Window Average for coef3 Higuchi Fractal Dimension\"\"\"\n",
    "t1xavg_coef3HFD = []\n",
    "for i in range(0, len(t1xcoef3HFD)-56, 1):\n",
    "    t1xavg_coef3HFD.append(mean(t1xcoef3HFD[i:i+56]))"
   ]
  },
  {
   "cell_type": "code",
   "execution_count": null,
   "metadata": {},
   "outputs": [],
   "source": [
    "\"\"\"coef4 Higuchi Fractal Dimension\"\"\"\n",
    "t1xcoef4HFD = []\n",
    "for i in range(0,len(t1xcoefs[3]), 128):\n",
    "    t1xcoef4HFD.append(higuchi_fd(t1xcoefs[3][i:i+128], kmax = 10))"
   ]
  },
  {
   "cell_type": "code",
   "execution_count": null,
   "metadata": {},
   "outputs": [],
   "source": [
    "\"\"\"Moving Window Average for coef4 Higuchi Fractal Dimension\"\"\"\n",
    "t1xavg_coef4HFD = []\n",
    "for i in range(0, len(t1xcoef4HFD)-56, 1):\n",
    "    t1xavg_coef4HFD.append(mean(t1xcoef4HFD[i:i+56]))"
   ]
  },
  {
   "cell_type": "code",
   "execution_count": null,
   "metadata": {},
   "outputs": [],
   "source": [
    "\"\"\"coef5 Higuchi Fractal Dimension\"\"\"\n",
    "t1xcoef5HFD = []\n",
    "for i in range(0,len(t1xcoefs[4]), 128):\n",
    "    t1xcoef5HFD.append(higuchi_fd(t1xcoefs[4][i:i+128], kmax = 10))"
   ]
  },
  {
   "cell_type": "code",
   "execution_count": null,
   "metadata": {},
   "outputs": [],
   "source": [
    "\"\"\"Moving Window Average for coef5 Higuchi Fractal Dimension\"\"\"\n",
    "t1xavg_coef5HFD = []\n",
    "for i in range(0, len(t1xcoef5HFD)-56, 1):\n",
    "    t1xavg_coef5HFD.append(mean(t1xcoef5HFD[i:i+56]))"
   ]
  },
  {
   "cell_type": "code",
   "execution_count": null,
   "metadata": {},
   "outputs": [],
   "source": [
    "\"\"\"Matrix of Continuous Wavelet Transform CH2 coefficients Higuchi Fractal Dimension\"\"\"\n",
    "\n",
    "fig6 = make_subplots(rows = 2, cols = 3, start_cell = 'top-left', subplot_titles=(\"Avg coef1 HFD\",\"Avg coef2 HFD\",\"Avg coef3 HFD\",\"Avg coef4 HFD\",\"Avg coef5 HFD\", \"BIS\"))\n",
    "fig6.append_trace(go.Line(y = t1xavg_coef1HFD, name = 'Coef1 HFD'), 1,1)\n",
    "fig6.append_trace(go.Line(y = t1xavg_coef2HFD, name = 'Coef2 HFD'), 1,2)\n",
    "fig6.append_trace(go.Line(y = t1xavg_coef3HFD, name = 'Coef3 HFD'), 1,3)\n",
    "fig6.append_trace(go.Line(y = t1xavg_coef4HFD, name = 'Coef4 HFD'), 2,1)\n",
    "fig6.append_trace(go.Line(y = t1xavg_coef5HFD, name = 'Coef5 HFD'), 2,2)\n",
    "fig6.append_trace(go.Line(y = t1.BIS[0:3535:], name = 'BIS'), 2,3)\n",
    "\n",
    "fig6.update_layout(title=\"Continuous Wavelet Transform t1 X Coefficients 56 Sec Window Average Higuchi Fractal Dimension\")\n",
    "\n",
    "fig6.show()"
   ]
  },
  {
   "cell_type": "code",
   "execution_count": null,
   "metadata": {},
   "outputs": [],
   "source": [
    "\"\"\"WRITING FEATURES TO XLSX\"\"\"\n",
    "import xlsxwriter"
   ]
  },
  {
   "cell_type": "code",
   "execution_count": null,
   "metadata": {},
   "outputs": [],
   "source": [
    "df = pd.DataFrame(t1avg_coef4PE)\n",
    "df['c4HFD'] = t1avg_coef4HFD\n",
    "df['c3PE'] = t1avg_coef3PE\n",
    "df['c3HFD'] = t1avg_coef3HFD\n",
    "df['BIS'] = t1.BIS[0:3535:]"
   ]
  },
  {
   "cell_type": "code",
   "execution_count": null,
   "metadata": {},
   "outputs": [],
   "source": [
    "df.rename(columns = {0:'c4PE'}, inplace = True)"
   ]
  },
  {
   "cell_type": "code",
   "execution_count": null,
   "metadata": {},
   "outputs": [],
   "source": [
    "df.head()"
   ]
  },
  {
   "cell_type": "code",
   "execution_count": null,
   "metadata": {},
   "outputs": [],
   "source": []
  },
  {
   "cell_type": "code",
   "execution_count": null,
   "metadata": {},
   "outputs": [],
   "source": [
    "df = pd.DataFrame(t1avg_coef4PE)\n",
    "df['c4HFD'] = t1avg_coef4HFD\n",
    "df['c3PE'] = t1avg_coef3PE\n",
    "df['c3HFD'] = t1avg_coef3HFD\n",
    "df['BIS'] = t1.BIS[0:3535:]\n",
    "\n",
    "df.rename(columns = {0:'c4PE'}, inplace = True)\n",
    "\n",
    "df.head()\n",
    "\n",
    "df.to_excel(\"Case1.xlsx\", sheet_name='Case1', engine = 'xlsxwriter')"
   ]
  }
 ],
 "metadata": {
  "kernelspec": {
   "display_name": "Python 3",
   "language": "python",
   "name": "python3"
  },
  "language_info": {
   "codemirror_mode": {
    "name": "ipython",
    "version": 3
   },
   "file_extension": ".py",
   "mimetype": "text/x-python",
   "name": "python",
   "nbconvert_exporter": "python",
   "pygments_lexer": "ipython3",
   "version": "3.7.3"
  }
 },
 "nbformat": 4,
 "nbformat_minor": 2
}
