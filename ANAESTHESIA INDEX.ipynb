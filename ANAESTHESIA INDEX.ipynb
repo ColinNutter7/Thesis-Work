{
 "cells": [
  {
   "cell_type": "code",
   "execution_count": null,
   "metadata": {},
   "outputs": [],
   "source": [
    "\"\"\"Importing libraries and reading in the training data\"\"\"\n",
    "import mne\n",
    "import pandas as pd\n",
    "import numpy as np\n",
    "from statistics import mean\n",
    "import plotly.graph_objects as go\n",
    "from plotly.subplots import make_subplots\n",
    "import plotly.express as px\n",
    "import matplotlib.pyplot as plt\n",
    "import pywt\n",
    "from entropy import*\n",
    "from scipy.stats import entropy\n",
    "import math\n",
    "from sklearn.linear_model import LassoCV, Lasso"
   ]
  },
  {
   "cell_type": "code",
   "execution_count": null,
   "metadata": {},
   "outputs": [],
   "source": [
    "t1 = pd.read_excel('/Users/colin/Desktop/signals/c4&3features.xlsx', sheet_name = 0)"
   ]
  },
  {
   "cell_type": "code",
   "execution_count": null,
   "metadata": {},
   "outputs": [],
   "source": [
    "t1.head()"
   ]
  },
  {
   "cell_type": "code",
   "execution_count": null,
   "metadata": {},
   "outputs": [],
   "source": [
    "t2 = pd.read_excel('/Users/colin/Desktop/signals/c4&3features.xlsx', sheet_name = 1)"
   ]
  },
  {
   "cell_type": "code",
   "execution_count": null,
   "metadata": {},
   "outputs": [],
   "source": [
    "t3 = pd.read_excel('/Users/colin/Desktop/signals/c4&3features.xlsx', sheet_name = 2)"
   ]
  },
  {
   "cell_type": "code",
   "execution_count": null,
   "metadata": {},
   "outputs": [],
   "source": [
    "t4 = pd.read_excel('/Users/colin/Desktop/signals/c4&3features.xlsx', sheet_name = 3)"
   ]
  },
  {
   "cell_type": "code",
   "execution_count": null,
   "metadata": {},
   "outputs": [],
   "source": [
    "t5 = pd.read_excel('/Users/colin/Desktop/signals/c4&3features.xlsx', sheet_name = 4)"
   ]
  },
  {
   "cell_type": "code",
   "execution_count": null,
   "metadata": {},
   "outputs": [],
   "source": [
    "t6 = pd.read_excel('/Users/colin/Desktop/signals/c4&3features.xlsx', sheet_name = 5)"
   ]
  },
  {
   "cell_type": "code",
   "execution_count": null,
   "metadata": {},
   "outputs": [],
   "source": [
    "t7 = pd.read_excel('/Users/colin/Desktop/signals/c4&3features.xlsx', sheet_name = 6)"
   ]
  },
  {
   "cell_type": "code",
   "execution_count": null,
   "metadata": {},
   "outputs": [],
   "source": [
    "t8 = pd.read_excel('/Users/colin/Desktop/signals/c4&3features.xlsx', sheet_name = 7)"
   ]
  },
  {
   "cell_type": "code",
   "execution_count": null,
   "metadata": {},
   "outputs": [],
   "source": [
    "t9 = pd.read_excel('/Users/colin/Desktop/signals/c4&3features.xlsx', sheet_name = 8)"
   ]
  },
  {
   "cell_type": "code",
   "execution_count": null,
   "metadata": {},
   "outputs": [],
   "source": [
    "t10 = pd.read_excel('/Users/colin/Desktop/signals/c4&3features.xlsx', sheet_name = 9)"
   ]
  },
  {
   "cell_type": "code",
   "execution_count": null,
   "metadata": {},
   "outputs": [],
   "source": [
    "t11 = pd.read_excel('/Users/colin/Desktop/signals/c4&3features.xlsx', sheet_name = 10)"
   ]
  },
  {
   "cell_type": "code",
   "execution_count": null,
   "metadata": {},
   "outputs": [],
   "source": [
    "\"\"\"Tim's Code\n",
    "\n",
    "#give up no mean data\n",
    "\n",
    "sample_rate=128\n",
    "\n",
    "if length(t1.BIS)*sample_rate<=length(t1.c4PE):\n",
    "\n",
    "    BIS=BIS(1:length(BIS));\n",
    "\n",
    "x=x(1:sample_rate*length(BIS));\n",
    "\n",
    "else\n",
    "\n",
    "BIS=BIS(1:floor(length(x)/sample_rate));\n",
    "\n",
    "x=x(1:sample_rate*floor(length(x)/sample_rate));\n",
    "\n",
    "end\n",
    "\"\"\""
   ]
  },
  {
   "cell_type": "code",
   "execution_count": null,
   "metadata": {},
   "outputs": [],
   "source": [
    "\"\"\"Creating the training dataframe\"\"\"\n",
    "ch2train = t1.append(t2, ignore_index = 'TRUE')\n",
    "ch2train = ch2train.append(t3, ignore_index = \"TRUE\")\n",
    "ch2train = ch2train.append(t4, ignore_index = 'TRUE')\n",
    "ch2train = ch2train.append(t5, ignore_index = 'TRUE')\n",
    "ch2train = ch2train.append(t6, ignore_index = \"TRUE\")\n",
    "ch2train = ch2train.append(t7, ignore_index = 'TRUE')\n",
    "ch2train = ch2train.append(t8, ignore_index = 'TRUE')\n",
    "ch2train = ch2train.append(t9, ignore_index = 'TRUE')\n",
    "ch2train = ch2train.append(t10, ignore_index = 'TRUE')\n",
    "ch2train = ch2train.append(t11, ignore_index = 'TRUE')"
   ]
  },
  {
   "cell_type": "code",
   "execution_count": null,
   "metadata": {},
   "outputs": [],
   "source": [
    "len(ch2train)"
   ]
  },
  {
   "cell_type": "code",
   "execution_count": null,
   "metadata": {},
   "outputs": [],
   "source": [
    "\"\"\"READING IN TESTING DATA\"\"\"\n",
    "test1 = pd.read_excel('/Users/colin/Desktop/signals/TEST4&3features.xlsx', sheet_name = 0)"
   ]
  },
  {
   "cell_type": "code",
   "execution_count": null,
   "metadata": {},
   "outputs": [],
   "source": [
    "test2 = pd.read_excel('/Users/colin/Desktop/signals/TEST4&3features.xlsx', sheet_name = 1)"
   ]
  },
  {
   "cell_type": "code",
   "execution_count": null,
   "metadata": {},
   "outputs": [],
   "source": [
    "test3 = pd.read_excel('/Users/colin/Desktop/signals/TEST4&3features.xlsx', sheet_name = 2)"
   ]
  },
  {
   "cell_type": "code",
   "execution_count": null,
   "metadata": {},
   "outputs": [],
   "source": [
    "test4 = pd.read_excel('/Users/colin/Desktop/signals/TEST4&3features.xlsx', sheet_name = 3)"
   ]
  },
  {
   "cell_type": "code",
   "execution_count": null,
   "metadata": {},
   "outputs": [],
   "source": [
    "test5 = pd.read_excel('/Users/colin/Desktop/signals/TEST4&3features.xlsx', sheet_name = 4)"
   ]
  },
  {
   "cell_type": "code",
   "execution_count": null,
   "metadata": {},
   "outputs": [],
   "source": [
    "test6 = pd.read_excel('/Users/colin/Desktop/signals/TEST4&3features.xlsx', sheet_name = 5)"
   ]
  },
  {
   "cell_type": "code",
   "execution_count": null,
   "metadata": {},
   "outputs": [],
   "source": [
    "test7 = pd.read_excel('/Users/colin/Desktop/signals/TEST4&3features.xlsx', sheet_name = 6)"
   ]
  },
  {
   "cell_type": "code",
   "execution_count": null,
   "metadata": {},
   "outputs": [],
   "source": [
    "test8 = pd.read_excel('/Users/colin/Desktop/signals/TEST4&3features.xlsx', sheet_name = 7)"
   ]
  },
  {
   "cell_type": "code",
   "execution_count": null,
   "metadata": {},
   "outputs": [],
   "source": [
    "test9 = pd.read_excel('/Users/colin/Desktop/signals/TEST4&3features.xlsx', sheet_name = 8)"
   ]
  },
  {
   "cell_type": "code",
   "execution_count": null,
   "metadata": {},
   "outputs": [],
   "source": [
    "test10 = pd.read_excel('/Users/colin/Desktop/signals/TEST4&3features.xlsx', sheet_name = 9)"
   ]
  },
  {
   "cell_type": "code",
   "execution_count": null,
   "metadata": {},
   "outputs": [],
   "source": [
    "test11 = pd.read_excel('/Users/colin/Desktop/signals/TEST4&3features.xlsx', sheet_name = 10)"
   ]
  },
  {
   "cell_type": "code",
   "execution_count": null,
   "metadata": {},
   "outputs": [],
   "source": [
    "\"\"\"Creating the testing dataframe\"\"\"\n",
    "ch2test = test1.append(test2, ignore_index = 'TRUE')\n",
    "ch2test = ch2test.append(test3, ignore_index = \"TRUE\")\n",
    "ch2test = ch2test.append(test4, ignore_index = 'TRUE')\n",
    "ch2test = ch2test.append(test5, ignore_index = 'TRUE')\n",
    "ch2test = ch2test.append(test6, ignore_index = \"TRUE\")\n",
    "ch2test = ch2test.append(test7, ignore_index = 'TRUE')\n",
    "ch2test = ch2test.append(test8, ignore_index = 'TRUE')\n",
    "ch2test = ch2test.append(test9, ignore_index = 'TRUE')\n",
    "ch2test = ch2test.append(test10, ignore_index = 'TRUE')\n",
    "ch2test = ch2test.append(test11, ignore_index = 'TRUE')"
   ]
  },
  {
   "cell_type": "code",
   "execution_count": null,
   "metadata": {},
   "outputs": [],
   "source": [
    "ch2test.head()"
   ]
  },
  {
   "cell_type": "code",
   "execution_count": null,
   "metadata": {},
   "outputs": [],
   "source": [
    "\"\"\"Creating LASSO REGRESSION MODEL\"\"\"\n",
    "\n",
    "lasso_train = ch2train.iloc[:,0:4]\n",
    "train_BIS = ch2train.iloc[:,4]\n",
    "lasso_model = LassoCV(cv = 5)\n",
    "lasso_model.fit(lasso_train, train_BIS)"
   ]
  },
  {
   "cell_type": "code",
   "execution_count": null,
   "metadata": {},
   "outputs": [],
   "source": [
    "\"\"\"Subsetting testing data\"\"\"\n",
    "test_data = ch2test.iloc[:,0:4]\n",
    "test_label = ch2test.iloc[:,4]"
   ]
  },
  {
   "cell_type": "code",
   "execution_count": null,
   "metadata": {},
   "outputs": [],
   "source": [
    "\"\"\"Making Predictions\"\"\"\n",
    "lasso_pred = lasso_model.predict(test_data)"
   ]
  },
  {
   "cell_type": "code",
   "execution_count": null,
   "metadata": {},
   "outputs": [],
   "source": [
    "\"\"\"PUTTING PREDICTION & LABEL INTO DF FOR PLOTTING PURPOSES\"\"\"\n",
    "predictions = pd.DataFrame(lasso_pred)\n",
    "predictions[\"true_BIS\"] = test_label\n",
    "predictions.rename(columns = {0:'Predicted'}, inplace = True)"
   ]
  },
  {
   "cell_type": "code",
   "execution_count": null,
   "metadata": {},
   "outputs": [],
   "source": [
    "predictions.head()"
   ]
  },
  {
   "cell_type": "code",
   "execution_count": null,
   "metadata": {},
   "outputs": [],
   "source": [
    "\"\"\"Plotting The Index\"\"\"\n",
    "lasso_fig = make_subplots(rows = 1, cols = 1, start_cell = 'top-left')\n",
    "lasso_fig.append_trace(go.Line(y = lasso_pred, name = 'New Index'), 1,1)\n",
    "lasso_fig.append_trace(go.Line(y = test_label, name = 'BIS'), 1,1)\n",
    "\n",
    "lasso_fig.update_layout(title=\"LASSO Regression Model: New Index & Real BIS Values\")\n",
    "\n",
    "lasso_fig.show()"
   ]
  },
  {
   "cell_type": "code",
   "execution_count": null,
   "metadata": {},
   "outputs": [],
   "source": [
    "\"\"\"Performance Metrics for the whole index\"\"\"\n",
    "from sklearn.metrics import explained_variance_score,mean_absolute_error,mean_squared_error,r2_score\n",
    "from scipy.stats import pearsonr\n",
    "import math\n",
    "\n",
    "ev = explained_variance_score(test_label, lasso_pred)\n",
    "index_mae = mean_absolute_error(test_label, lasso_pred)\n",
    "index_mse = mean_squared_error(test_label, lasso_pred)\n",
    "index_rmse = math.sqrt(index_mse)\n",
    "index_r2 = r2_score(test_label, lasso_pred)\n",
    "index_corr = pearsonr(test_label, lasso_pred)\n",
    "\n",
    "print(\"The Explained variance is: \",ev, \"The Mean Absolute Error is: \",index_mae, \n",
    "      \"The Mean Squared Error is: \",index_mse, \"The Index R2 score is: \", index_r2, \n",
    "      \"The Pearson Correlation Coefficient is: \",index_corr, \n",
    "      \"The Root Mean Square Error is: \", index_rmse, sep=\"\\n\")\n",
    "\n"
   ]
  },
  {
   "cell_type": "code",
   "execution_count": null,
   "metadata": {},
   "outputs": [],
   "source": [
    "\"\"\"WRITING Predicted - BIS to XLSX\"\"\"\n",
    "#import xlsxwriter\n",
    "#predictions.to_excel(\"Predictions.xlsx\", sheet_name='1', engine = 'xlsxwriter')"
   ]
  },
  {
   "cell_type": "code",
   "execution_count": null,
   "metadata": {},
   "outputs": [],
   "source": [
    "\"\"\"USING MODEL TO MAKE PREDICTIONS FOR TEST PATIENTS\"\"\"\n",
    "p1 = lasso_model.predict(test1.iloc[:,0:4])\n",
    "p2 = lasso_model.predict(test2.iloc[:,0:4])\n",
    "p3 = lasso_model.predict(test3.iloc[:,0:4])\n",
    "p4 = lasso_model.predict(test4.iloc[:,0:4])\n",
    "p5 = lasso_model.predict(test5.iloc[:,0:4])\n",
    "p6 = lasso_model.predict(test6.iloc[:,0:4])\n",
    "p7 = lasso_model.predict(test7.iloc[:,0:4])\n",
    "p8 = lasso_model.predict(test8.iloc[:,0:4])\n",
    "p9 = lasso_model.predict(test9.iloc[:,0:4])\n",
    "p10 = lasso_model.predict(test10.iloc[:,0:4])\n",
    "p11 = lasso_model.predict(test11.iloc[:,0:4])"
   ]
  },
  {
   "cell_type": "code",
   "execution_count": null,
   "metadata": {},
   "outputs": [],
   "source": [
    "\"\"\"Subplots of Predicted vs. Real BIS Scores\"\"\"\n",
    "\n",
    "lasso_fig1 = make_subplots(rows = 2, cols = 3, start_cell = 'top-left', subplot_titles=(\"Case 1\",\"Case 2\",\"Case 3\",\"Case 4\",\"Case 5\", \"Case 6\"))\n",
    "lasso_fig1.append_trace(go.Line(y = p1, name = 'Case 1 Pred'), 1,1)\n",
    "lasso_fig1.append_trace(go.Line(y = test1.iloc[:,4], line=dict(color='red'), name = 'Case 1 BIS'), 1,1)\n",
    "lasso_fig1.append_trace(go.Line(y = p2, name = 'Case 2'), 1,2)\n",
    "lasso_fig1.append_trace(go.Line(y = test2.iloc[:,4],line=dict(color='red'), name = 'Case 2 BIS'), 1,2)\n",
    "lasso_fig1.append_trace(go.Line(y = p3, name = 'Case 3'), 1,3)\n",
    "lasso_fig1.append_trace(go.Line(y = test3.iloc[:,4],line=dict(color='red'), name = 'Case 3 BIS'), 1,3)\n",
    "lasso_fig1.append_trace(go.Line(y = p4, name = 'Case 4'), 2,1)\n",
    "lasso_fig1.append_trace(go.Line(y = test4.iloc[:,4],line=dict(color='red'), name = 'Case 4 BIS'), 2,1)\n",
    "lasso_fig1.append_trace(go.Line(y = p5, name = 'Case 5'), 2,2)\n",
    "lasso_fig1.append_trace(go.Line(y = test5.iloc[:,4],line=dict(color='red'), name = 'Case 5 BIS'), 2,2)\n",
    "lasso_fig1.append_trace(go.Line(y = p6, name = 'Case 6'), 2,3)\n",
    "lasso_fig1.append_trace(go.Line(y = test6.iloc[:,4], line=dict(color='red'), name = 'Case 6 BIS'), 2,3)\n",
    "\n",
    "lasso_fig1.update_layout(title=\"LASSO Regression Model: Cases 1-6 Predicted & Real BIS Values\")\n",
    "\n",
    "lasso_fig1.show()"
   ]
  },
  {
   "cell_type": "code",
   "execution_count": null,
   "metadata": {},
   "outputs": [],
   "source": [
    "\"\"\"Subplots of Predicted vs. Real BIS Scores Part 2\"\"\"\n",
    "\n",
    "lasso_fig2 = make_subplots(rows = 2, cols = 3, start_cell = 'top-left', subplot_titles=(\"Case 7\",\"Case 8\",\"Case 9\",\"Case 10\",\"Case 11\"))\n",
    "lasso_fig2.append_trace(go.Line(y = p7, name = 'Case 7 Pred'), 1,1)\n",
    "lasso_fig2.append_trace(go.Line(y = test7.iloc[:,4], line=dict(color='red'), name = 'Case 7 BIS'), 1,1)\n",
    "lasso_fig2.append_trace(go.Line(y = p8, name = 'Case 8'), 1,2)\n",
    "lasso_fig2.append_trace(go.Line(y = test8.iloc[:,4],line=dict(color='red'), name = 'Case 8 BIS'), 1,2)\n",
    "lasso_fig2.append_trace(go.Line(y = p9, name = 'Case 9'), 1,3)\n",
    "lasso_fig2.append_trace(go.Line(y = test9.iloc[:,4], line=dict(color='red'),name = 'Case 9 BIS'), 1,3)\n",
    "lasso_fig2.append_trace(go.Line(y = p10, name = 'Case 10'), 2,1)\n",
    "lasso_fig2.append_trace(go.Line(y = test10.iloc[:,4],line=dict(color='red'), name = 'Case 10 BIS'), 2,1)\n",
    "lasso_fig2.append_trace(go.Line(y = p11, name = 'Case 11'), 2,2)\n",
    "lasso_fig2.append_trace(go.Line(y = test11.iloc[:,4], line=dict(color='red'),name = 'Case 11 BIS'), 2,2)\n",
    "\n",
    "lasso_fig2.update_layout(title=\"LASSO Regression Model: Cases 7-11 Predicted & Real BIS Values\")\n",
    "\n",
    "lasso_fig2.show()"
   ]
  },
  {
   "cell_type": "code",
   "execution_count": null,
   "metadata": {},
   "outputs": [],
   "source": [
    "\"\"\"\n",
    "\"\"\"LASSO MODEL WITH ORIGINAL FEATURES + SAMPLE ENTROPY\"\"\"\n",
    "\n",
    "\"\"\"Sample Entropy Training Set\"\"\"\n",
    "sample = pd.DataFrame(ch2train.c4PE)\n",
    "sample['c4HFD'] = ch2train.c4HFD\n",
    "sample['c3PE'] = ch2train.c3PE\n",
    "sample['c3HFD'] = ch2train.c3HFD\n",
    "sample['c4SampeE'] = ch2train.c4SampE\n",
    "sample['c3SampE'] = ch2train.c3SampE\n",
    "sample.rename(columns = {0:'c4PE'}, inplace = True)\n",
    "\n",
    "\"\"\"Sample Entropy Testing Set\"\"\"\n",
    "sample_test = pd.DataFrame(ch2test.c4PE)\n",
    "sample_test['c4HFD'] = ch2test.c4HFD\n",
    "sample_test['c3PE'] = ch2test.c3PE\n",
    "sample_test['c3HFD'] = ch2test.c3HFD\n",
    "sample_test['c4SampeE'] = ch2test.c4SampE\n",
    "sample_test['c3SampE'] = ch2test.c3SampE\n",
    "sample_test.rename(columns = {0:'c4PE'}, inplace = True)\n",
    "\n",
    "\"\"\"Creating Model\"\"\"\n",
    "sample_lasso = sample\n",
    "train_BIS = ch2train.iloc[:,8]\n",
    "sample_lasso_model = LassoCV(cv = 5)\n",
    "sample_lasso_model.fit(sample_lasso, train_BIS)\n",
    "\n",
    "\"\"\"Subsetting testing data\"\"\"\n",
    "test_label = ch2test.iloc[:,8]\n",
    "\n",
    "\"\"\"Making Predictions\"\"\"\n",
    "sample_pred = sample_lasso_model.predict(sample_test)\n",
    "\n",
    "\"\"\"PUTTING PREDICTION & LABEL INTO DF FOR PLOTTING PURPOSES\"\"\"\n",
    "sample_predictions = pd.DataFrame(sample_pred)\n",
    "sample_predictions[\"true_BIS\"] = test_label\n",
    "sample_predictions.rename(columns = {0:'Predicted'}, inplace = True)\n",
    "\n",
    "\"\"\"WRITING Predicted - BIS to XLSX\"\"\"\n",
    "import xlsxwriter\n",
    "sample_predictions.to_excel(\"Sample_Predictions.xlsx\", sheet_name='1', engine = 'xlsxwriter')\n",
    "\"\"\""
   ]
  },
  {
   "cell_type": "code",
   "execution_count": null,
   "metadata": {},
   "outputs": [],
   "source": [
    "\"\"\"\n",
    "\"\"\"LASSO MODEL WITH ORIGINAL FEATURES + spectral ENTROPY\"\"\"\n",
    "\n",
    "\"\"\"spectral Entropy Training Set\"\"\"\n",
    "spectral = pd.DataFrame(ch2train.c4PE)\n",
    "spectral['c4HFD'] = ch2train.c4HFD\n",
    "spectral['c3PE'] = ch2train.c3PE\n",
    "spectral['c3HFD'] = ch2train.c3HFD\n",
    "spectral['c4SpeceE'] = ch2train.c4SpecE\n",
    "spectral['c3SpecE'] = ch2train.c3SpecE\n",
    "spectral.rename(columns = {0:'c4PE'}, inplace = True)\n",
    "\n",
    "\"\"\"spectral Entropy Testing Set\"\"\"\n",
    "spectral_test = pd.DataFrame(ch2test.c4PE)\n",
    "spectral_test['c4HFD'] = ch2test.c4HFD\n",
    "spectral_test['c3PE'] = ch2test.c3PE\n",
    "spectral_test['c3HFD'] = ch2test.c3HFD\n",
    "spectral_test['c4SpeceE'] = ch2test.c4SpecE\n",
    "spectral_test['c3SpecE'] = ch2test.c3SpecE\n",
    "spectral_test.rename(columns = {0:'c4PE'}, inplace = True)\n",
    "\n",
    "\"\"\"Creating Model\"\"\"\n",
    "spectral_lasso = spectral\n",
    "train_BIS = ch2train.iloc[:,8]\n",
    "spectral_lasso_model = LassoCV(cv = 5)\n",
    "spectral_lasso_model.fit(spectral_lasso, train_BIS)\n",
    "\n",
    "\"\"\"Subsetting testing data\"\"\"\n",
    "test_label = ch2test.iloc[:,8]\n",
    "\n",
    "\"\"\"Making Predictions\"\"\"\n",
    "spectral_pred = spectral_lasso_model.predict(spectral_test)\n",
    "\n",
    "\"\"\"PUTTING PREDICTION & LABEL INTO DF FOR PLOTTING PURPOSES\"\"\"\n",
    "spectral_predictions = pd.DataFrame(spectral_pred)\n",
    "spectral_predictions[\"true_BIS\"] = test_label\n",
    "spectral_predictions.rename(columns = {0:'Predicted'}, inplace = True)\n",
    "\n",
    "\"\"\"WRITING Predicted - BIS to XLSX\"\"\"\n",
    "import xlsxwriter\n",
    "spectral_predictions.to_excel(\"Spectral_Predictions.xlsx\", sheet_name='1', engine = 'xlsxwriter')\n",
    "\"\"\""
   ]
  },
  {
   "cell_type": "code",
   "execution_count": null,
   "metadata": {},
   "outputs": [],
   "source": []
  },
  {
   "cell_type": "code",
   "execution_count": null,
   "metadata": {},
   "outputs": [],
   "source": []
  },
  {
   "cell_type": "code",
   "execution_count": null,
   "metadata": {},
   "outputs": [],
   "source": []
  },
  {
   "cell_type": "code",
   "execution_count": null,
   "metadata": {},
   "outputs": [],
   "source": []
  },
  {
   "cell_type": "code",
   "execution_count": null,
   "metadata": {},
   "outputs": [],
   "source": [
    "\"\"\"CREATING NEURAL NETWORK\"\"\"\n",
    "\n",
    "from keras.callbacks import ModelCheckpoint\n",
    "from keras.models import Sequential\n",
    "from keras.layers import Dense, Activation, Flatten\n",
    "from sklearn.ensemble import RandomForestRegressor\n",
    "from sklearn.metrics import mean_absolute_error\n",
    "import warnings\n",
    "warnings.filterwarnings('ignore')\n",
    "warnings.filterwarnings('ignore', category = DeprecationWarning)\n",
    "from xgboost import XGBRegressor"
   ]
  },
  {
   "cell_type": "code",
   "execution_count": null,
   "metadata": {},
   "outputs": [],
   "source": [
    "nn_train = ch2train.iloc[:,0:4]\n",
    "nn_BIS = ch2train.iloc[:,4]"
   ]
  },
  {
   "cell_type": "code",
   "execution_count": null,
   "metadata": {},
   "outputs": [],
   "source": [
    "\"\"\"Creating the neural network and initializing the input layer\"\"\"\n",
    "NN_Model = Sequential()\n",
    "NN_Model.add(Dense(4, kernel_initializer = 'normal', input_dim = nn_train.shape[1], activation = 'relu'))"
   ]
  },
  {
   "cell_type": "code",
   "execution_count": null,
   "metadata": {},
   "outputs": [],
   "source": [
    "\"\"\"Adding the hidden layers\"\"\"\n",
    "NN_Model.add(Dense(256, kernel_initializer = 'normal', activation = 'relu'))\n",
    "NN_Model.add(Dense(256, kernel_initializer = 'normal', activation = 'relu'))\n",
    "NN_Model.add(Dense(256, kernel_initializer = 'normal', activation = 'relu'))\n",
    "\n",
    "\"\"\"Adding the output layer\"\"\"\n",
    "NN_Model.add(Dense(1, kernel_initializer = 'normal', activation = 'linear'))"
   ]
  },
  {
   "cell_type": "code",
   "execution_count": null,
   "metadata": {},
   "outputs": [],
   "source": [
    "NN_Model.compile(loss = 'mean_absolute_error', optimizer = 'adam', metrics = ['mean_absolute_error'])\n",
    "NN_Model.summary()"
   ]
  },
  {
   "cell_type": "code",
   "execution_count": null,
   "metadata": {},
   "outputs": [],
   "source": [
    "\"\"\"Creating checkpoints for the NN\"\"\"\n",
    "checkpoint_name = 'Weights-{epoch:03d}--{val_loss:.5f}.hdf5'\n",
    "checkpoint = ModelCheckpoint(checkpoint_name, monitor = 'val_loss', verbose = 1, save_best_only = True, mode = 'auto')\n",
    "callbacks_list = [checkpoint]"
   ]
  },
  {
   "cell_type": "code",
   "execution_count": null,
   "metadata": {},
   "outputs": [],
   "source": [
    "\"\"\"Fitting the NN model to the data\"\"\"\n",
    "NN_Model.fit(nn_train, nn_BIS, epochs = 21, batch_size = 32, validation_split = 0.2, callbacks = callbacks_list)"
   ]
  },
  {
   "cell_type": "code",
   "execution_count": null,
   "metadata": {},
   "outputs": [],
   "source": [
    "\"\"\"Using the weights from the best performing model\"\"\"\n",
    "weights = 'Weights-012--8.20872.hdf5'\n",
    "NN_Model.load_weights(weights)\n",
    "NN_Model.compile(loss = 'mean_absolute_error', optimizer = 'adam', metrics = ['mean_absolute_error'])"
   ]
  },
  {
   "cell_type": "code",
   "execution_count": null,
   "metadata": {},
   "outputs": [],
   "source": [
    "\"\"\"Making predictions\"\"\"\n",
    "NN_prediction = NN_Model.predict(test_data) #test df no label"
   ]
  },
  {
   "cell_type": "code",
   "execution_count": null,
   "metadata": {},
   "outputs": [],
   "source": [
    "\"\"\"Subsetting DNN model prediction values\"\"\"\n",
    "NN_R = []\n",
    "for x in NN_prediction:\n",
    "    for y in x:\n",
    "        NN_R.append(y)"
   ]
  },
  {
   "cell_type": "code",
   "execution_count": null,
   "metadata": {},
   "outputs": [],
   "source": [
    "\"\"\"Using the model on the individual test cases\"\"\"\n",
    "#DNN_time = np.array(range(0, t1['x1'].count()))\n",
    "\n",
    "nn1 = NN_Model.predict(test1.iloc[:,0:4])\n",
    "nn2 = NN_Model.predict(test2.iloc[:,0:4])\n",
    "nn3 = NN_Model.predict(test3.iloc[:,0:4])\n",
    "nn4 = NN_Model.predict(test4.iloc[:,0:4])\n",
    "nn5 = NN_Model.predict(test5.iloc[:,0:4])\n",
    "nn6 = NN_Model.predict(test6.iloc[:,0:4])\n",
    "nn7 = NN_Model.predict(test7.iloc[:,0:4])\n",
    "nn8 = NN_Model.predict(test8.iloc[:,0:4])\n",
    "nn9 = NN_Model.predict(test9.iloc[:,0:4])\n",
    "nn10 = NN_Model.predict(test10.iloc[:,0:4])\n",
    "nn11 = NN_Model.predict(test11.iloc[:,0:4])"
   ]
  },
  {
   "cell_type": "code",
   "execution_count": null,
   "metadata": {},
   "outputs": [],
   "source": [
    "\"\"\"Separating values from the DNN_Model array results\"\"\"\n",
    "nn_pred_1 = []\n",
    "for x in nn1:\n",
    "    for y in x:\n",
    "        nn_pred_1.append(y)\n",
    "        \n",
    "nn_pred_2 = []\n",
    "for x in nn2:\n",
    "    for y in x:\n",
    "        nn_pred_2.append(y)\n",
    "\n",
    "nn_pred_3 = []\n",
    "for x in nn3:\n",
    "    for y in x:\n",
    "        nn_pred_3.append(y)\n",
    "        \n",
    "nn_pred_4 = []\n",
    "for x in nn4:\n",
    "    for y in x:\n",
    "        nn_pred_4.append(y)\n",
    "        \n",
    "nn_pred_5 = []\n",
    "for x in nn5:\n",
    "    for y in x:\n",
    "        nn_pred_5.append(y)\n",
    "        \n",
    "nn_pred_6 = []\n",
    "for x in nn6:\n",
    "    for y in x:\n",
    "        nn_pred_6.append(y)\n",
    "\n",
    "nn_pred_7 = []\n",
    "for x in nn7:\n",
    "    for y in x:\n",
    "        nn_pred_7.append(y)\n",
    "        \n",
    "nn_pred_8 = []\n",
    "for x in nn8:\n",
    "    for y in x:\n",
    "        nn_pred_8.append(y)\n",
    "        \n",
    "nn_pred_9 = []\n",
    "for x in nn9:\n",
    "    for y in x:\n",
    "        nn_pred_9.append(y)\n",
    "        \n",
    "nn_pred_10 = []\n",
    "for x in nn10:\n",
    "    for y in x:\n",
    "        nn_pred_10.append(y)\n",
    "        \n",
    "nn_pred_11 = []\n",
    "for x in nn11:\n",
    "    for y in x:\n",
    "        nn_pred_11.append(y)        "
   ]
  },
  {
   "cell_type": "code",
   "execution_count": null,
   "metadata": {},
   "outputs": [],
   "source": [
    "\"\"\"Plotting The Index\"\"\"\n",
    "nn_fig = make_subplots(rows = 1, cols = 1, start_cell = 'top-left')\n",
    "nn_fig.append_trace(go.Line(y = NN_R, name = 'New Index'), 1,1)\n",
    "nn_fig.append_trace(go.Line(y = test_label, name = 'BIS'), 1,1)\n",
    "\n",
    "nn_fig.update_layout(title=\"Neural Net Model: New Index & Real BIS Values\")\n",
    "\n",
    "nn_fig.show()"
   ]
  },
  {
   "cell_type": "code",
   "execution_count": null,
   "metadata": {},
   "outputs": [],
   "source": [
    "\"\"\"NeuralNet Index Performance Metrics\"\"\"\n",
    "nn_ev = explained_variance_score(test_label, NN_R)\n",
    "nn_index_mae = mean_absolute_error(test_label, NN_R)\n",
    "nn_index_mse = mean_squared_error(test_label, NN_R)\n",
    "nn_index_rmse = math.sqrt(nn_index_mse)\n",
    "nn_index_r2 = r2_score(test_label, NN_R)\n",
    "nn_index_corr = pearsonr(test_label, NN_R)\n",
    "\n",
    "print(\"The Explained variance is: \",nn_ev, \"The Mean Absolute Error is: \",nn_index_mae, \n",
    "      \"The Mean Squared Error is: \",nn_index_mse, \"The Index R2 score is: \", nn_index_r2, \n",
    "      \"The Pearson Correlation Coefficient is: \",nn_index_corr, \n",
    "      \"The Root Mean Square Error is: \", nn_index_rmse, sep=\"\\n\")"
   ]
  },
  {
   "cell_type": "code",
   "execution_count": null,
   "metadata": {},
   "outputs": [],
   "source": [
    "\"\"\"Using the model to plot test cases for the ANN\"\"\"\n",
    "NN_fig1 = make_subplots(rows = 2, cols = 3, start_cell = 'top-left')\n",
    "\n",
    "NN_fig1.add_trace(go.Scatter(y = nn_pred_1, name = 'Case 1'), 1,1)\n",
    "NN_fig1.append_trace(go.Line(y = test1.iloc[:,4],line=dict(color='red'), name = 'Case 1 BIS'), 1,1)\n",
    "\n",
    "NN_fig1.add_trace(go.Scatter(y = nn_pred_2, name = 'Case 2'), 1,2)\n",
    "NN_fig1.append_trace(go.Line(y = test2.iloc[:,4],line=dict(color='red'), name = 'Case 2 BIS'), 1,2)\n",
    "\n",
    "NN_fig1.add_trace(go.Scatter(y = nn_pred_3, name = 'Case 3'), 1,3)\n",
    "NN_fig1.append_trace(go.Line(y = test3.iloc[:,4],line=dict(color='red'), name = 'Case 3 BIS'), 1,3)\n",
    "\n",
    "NN_fig1.add_trace(go.Scatter(y = nn_pred_4, name = 'Case 4'), 2,1)\n",
    "NN_fig1.append_trace(go.Line(y = test4.iloc[:,4],line=dict(color='red'), name = 'Case 4 BIS'), 2,1)\n",
    "\n",
    "NN_fig1.add_trace(go.Scatter(y = nn_pred_5, name = 'Case 5'), 2,2)\n",
    "NN_fig1.append_trace(go.Line(y = test5.iloc[:,4],line=dict(color='red'), name = 'Case 5 BIS'), 2,2)\n",
    "\n",
    "NN_fig1.add_trace(go.Scatter(y = nn_pred_6, name = 'Case 6'), 2,3)\n",
    "NN_fig1.append_trace(go.Line(y = test6.iloc[:,4],line=dict(color='red'), name = 'Case 6 BIS'), 2,3)\n",
    "\n",
    "NN_fig1.update_layout(title=\"NeuralNet Model: Cases 1-6 Predicted & Real BIS Values\")\n",
    "\n",
    "NN_fig1.show()"
   ]
  },
  {
   "cell_type": "code",
   "execution_count": null,
   "metadata": {},
   "outputs": [],
   "source": [
    "\"\"\"Using the model to plot test cases for the ANN\"\"\"\n",
    "NN_fig2 = make_subplots(rows = 2, cols = 3, start_cell = 'top-left')\n",
    "\n",
    "NN_fig2.add_trace(go.Scatter(y = nn_pred_7, name = 'Case 7'), 1,1)\n",
    "NN_fig2.append_trace(go.Line(y = test7.iloc[:,4],line=dict(color='red'), name = 'Case 7 BIS'), 1,1)\n",
    "\n",
    "NN_fig2.add_trace(go.Scatter(y = nn_pred_4, name = 'Case 8'), 1,2)\n",
    "NN_fig2.append_trace(go.Line(y = test4.iloc[:,4],line=dict(color='red'), name = 'Case 4 BIS'), 1,2)\n",
    "\n",
    "NN_fig2.add_trace(go.Scatter(y = nn_pred_9, name = 'Case 9'), 1,3)\n",
    "NN_fig2.append_trace(go.Line(y = test9.iloc[:,4],line=dict(color='red'), name = 'Case 9 BIS'), 1,3)\n",
    "\n",
    "NN_fig2.add_trace(go.Scatter(y = nn_pred_10, name = 'Case 10'), 2,1)\n",
    "NN_fig2.append_trace(go.Line(y = test10.iloc[:,4],line=dict(color='red'), name = 'Case 10 BIS'), 2,1)\n",
    "\n",
    "NN_fig2.add_trace(go.Scatter(y = nn_pred_11, name = 'Case 11'), 2,2)\n",
    "NN_fig2.append_trace(go.Line(y = test11.iloc[:,4],line=dict(color='red'), name = 'Case 11 BIS'), 2,2)\n",
    "\n",
    "NN_fig2.update_layout(title=\"NeuralNet Model: Cases 7-11 Predicted & Real BIS Values\")\n",
    "\n",
    "NN_fig2.show()"
   ]
  },
  {
   "cell_type": "code",
   "execution_count": null,
   "metadata": {},
   "outputs": [],
   "source": [
    "\"\"\"TESTING MODELS USING THE ADDITIONAL DATA AND SQI\"\"\"\n",
    "\n",
    "\"\"\"Reading in the holdout data\"\"\"\n",
    "sq1 = pd.read_excel('/Users/colin/Desktop/signals/SQI_FEATURES.xlsx', sheet_name = 0)\n",
    "sq9 = pd.read_excel('/Users/colin/Desktop/signals/SQI_FEATURES.xlsx', sheet_name = 1)\n",
    "sq10 = pd.read_excel('/Users/colin/Desktop/signals/SQI_FEATURES.xlsx', sheet_name = 2)\n",
    "sq15 = pd.read_excel('/Users/colin/Desktop/signals/SQI_FEATURES.xlsx', sheet_name = 3)\n",
    "sq16 = pd.read_excel('/Users/colin/Desktop/signals/SQI_FEATURES.xlsx', sheet_name = 4)\n",
    "sq22 = pd.read_excel('/Users/colin/Desktop/signals/SQI_FEATURES.xlsx', sheet_name = 5)\n",
    "sq26 = pd.read_excel('/Users/colin/Desktop/signals/SQI_FEATURES.xlsx', sheet_name = 6)\n",
    "sq28 = pd.read_excel('/Users/colin/Desktop/signals/SQI_FEATURES.xlsx', sheet_name = 7)\n",
    "sq33 = pd.read_excel('/Users/colin/Desktop/signals/SQI_FEATURES.xlsx', sheet_name = 8)\n",
    "sq34 = pd.read_excel('/Users/colin/Desktop/signals/SQI_FEATURES.xlsx', sheet_name = 9)\n",
    "sq35 = pd.read_excel('/Users/colin/Desktop/signals/SQI_FEATURES.xlsx', sheet_name = 10)"
   ]
  },
  {
   "cell_type": "code",
   "execution_count": null,
   "metadata": {},
   "outputs": [],
   "source": [
    "\"\"\"Creating the training dataframe\"\"\"\n",
    "sqi = sq1.append(sq9, ignore_index = 'TRUE')\n",
    "sqi = sqi.append(sq10, ignore_index = \"TRUE\")\n",
    "sqi = sqi.append(sq15, ignore_index = 'TRUE')\n",
    "sqi = sqi.append(sq16, ignore_index = 'TRUE')\n",
    "sqi = sqi.append(sq22, ignore_index = \"TRUE\")\n",
    "sqi = sqi.append(sq26, ignore_index = 'TRUE')\n",
    "sqi = sqi.append(sq28, ignore_index = 'TRUE')\n",
    "sqi = sqi.append(sq33, ignore_index = 'TRUE')\n",
    "sqi = sqi.append(sq34, ignore_index = 'TRUE')\n",
    "sqi = sqi.append(sq35, ignore_index = 'TRUE')"
   ]
  },
  {
   "cell_type": "code",
   "execution_count": null,
   "metadata": {},
   "outputs": [],
   "source": [
    "holdout_data = sqi.iloc[:,0:4]\n",
    "holdout_label = sqi.iloc[:,4]"
   ]
  },
  {
   "cell_type": "code",
   "execution_count": null,
   "metadata": {},
   "outputs": [],
   "source": [
    "type(holdout_data)"
   ]
  },
  {
   "cell_type": "code",
   "execution_count": null,
   "metadata": {},
   "outputs": [],
   "source": [
    "np.isnan(sqi.iloc[0:,0])"
   ]
  },
  {
   "cell_type": "code",
   "execution_count": null,
   "metadata": {},
   "outputs": [],
   "source": [
    "\"\"\"Making predictions on holdout data with LASSO model\"\"\"\n",
    "holdout_pred = lasso_model.predict(holdout_data)"
   ]
  },
  {
   "cell_type": "code",
   "execution_count": null,
   "metadata": {},
   "outputs": [],
   "source": [
    "\"\"\"Plotting The Index\"\"\"\n",
    "lasso_fig8 = make_subplots(rows = 1, cols = 1, start_cell = 'top-left')\n",
    "lasso_fig8.append_trace(go.Line(y = holdout_pred, name = 'Hold Out Predictions'), 1,1)\n",
    "lasso_fig8.append_trace(go.Line(y = holdout_label, name = 'BIS'), 1,1)\n",
    "lasso_fig8.append_trace(go.Line(y = sqi.iloc[:,5], name = 'SQI'), 1,1)\n",
    "\n",
    "lasso_fig8.update_layout(title=\"LASSO Regression Model: New Index (Holdout Data) & Real BIS Values W/SQI\")\n",
    "\n",
    "lasso_fig8.show()"
   ]
  },
  {
   "cell_type": "code",
   "execution_count": null,
   "metadata": {},
   "outputs": [],
   "source": [
    "h1 = lasso_model.predict(sq1.iloc[:,0:4])\n",
    "h2 = lasso_model.predict(sq9.iloc[:,0:4])\n",
    "h3 = lasso_model.predict(sq10.iloc[:,0:4])\n",
    "h4 = lasso_model.predict(sq15.iloc[:,0:4])\n",
    "h5 = lasso_model.predict(sq16.iloc[:,0:4])\n",
    "h6 = lasso_model.predict(sq22.iloc[:,0:4])\n",
    "h7 = lasso_model.predict(sq26.iloc[:,0:4])\n",
    "h8 = lasso_model.predict(sq28.iloc[:,0:4])\n",
    "h9 = lasso_model.predict(sq33.iloc[:,0:4])\n",
    "h10 = lasso_model.predict(sq34.iloc[:,0:4])\n",
    "h11 = lasso_model.predict(sq35.iloc[:,0:4])\n"
   ]
  },
  {
   "cell_type": "code",
   "execution_count": null,
   "metadata": {},
   "outputs": [],
   "source": [
    "\"\"\"HOLDOUT CASE 1\"\"\"\n",
    "fig_one = go.Figure()\n",
    "\n",
    "fig_one.add_trace(go.Line(y = h1, name = 'Case 1 Pred'))\n",
    "fig_one.add_trace(go.Line(y = sq1.iloc[:,4], line=dict(color='red'), name = 'Case 1 BIS'))\n",
    "fig_one.add_trace(go.Line(y = sq1.iloc[:,5], line=dict(color='green'), name = 'Case 1 SQI'))\n",
    "fig_one.update_layout(title=\"LASSO Regression Model: New Index (Holdout Data) & Real BIS Values W/SQI CASE 1\")\n",
    "fig_one.show()"
   ]
  },
  {
   "cell_type": "code",
   "execution_count": null,
   "metadata": {},
   "outputs": [],
   "source": [
    "\"\"\"HOLDOUT CASE 16\"\"\"\n",
    "fig16 = go.Figure()\n",
    "\n",
    "fig16.add_trace(go.Line(y = h5, name = 'Case 1 Pred'))\n",
    "fig16.add_trace(go.Line(y = sq16.iloc[:,4], line=dict(color='red'), name = 'Case 16 BIS'))\n",
    "fig16.add_trace(go.Line(y = sq16.iloc[:,5], line=dict(color='green'), name = 'Case 16 SQI'))\n",
    "fig16.update_layout(title=\"LASSO Regression Model: New Index (Holdout Data) & Real BIS Values W/SQI CASE 16\")\n",
    "fig16.show()"
   ]
  },
  {
   "cell_type": "code",
   "execution_count": null,
   "metadata": {},
   "outputs": [],
   "source": [
    "\"\"\"HOLDOUT CASE 22\"\"\"\n",
    "fig22 = go.Figure()\n",
    "\n",
    "fig22.add_trace(go.Line(y = h6, name = 'Case 1 Pred'))\n",
    "fig22.add_trace(go.Line(y = sq22.iloc[:,4], line=dict(color='red'), name = 'Case 22 BIS'))\n",
    "fig22.add_trace(go.Line(y = sq22.iloc[:,5], line=dict(color='green'), name = 'Case 22 SQI'))\n",
    "fig22.update_layout(title=\"LASSO Regression Model: New Index (Holdout Data) & Real BIS Values W/SQI CASE 22\")\n",
    "fig22.show()"
   ]
  },
  {
   "cell_type": "code",
   "execution_count": null,
   "metadata": {},
   "outputs": [],
   "source": [
    "\"\"\"HOLDOUT CASE 28\"\"\"\n",
    "fig28 = go.Figure()\n",
    "\n",
    "fig28.add_trace(go.Line(y = h8, name = 'Case 1 Pred'))\n",
    "fig28.add_trace(go.Line(y = sq28.iloc[:,4], line=dict(color='red'), name = 'Case 28 BIS'))\n",
    "fig28.add_trace(go.Line(y = sq28.iloc[:,5], line=dict(color='green'), name = 'Case 28 SQI'))\n",
    "fig28.update_layout(title=\"LASSO Regression Model: New Index (Holdout Data) & Real BIS Values W/SQI CASE 28\")\n",
    "fig28.show()"
   ]
  },
  {
   "cell_type": "code",
   "execution_count": null,
   "metadata": {},
   "outputs": [],
   "source": [
    "\"\"\"Subplots of Predicted vs. Real BIS Scores\"\"\"\n",
    "\n",
    "lasso_fig3 = make_subplots(rows = 2, cols = 3, start_cell = 'top-left', subplot_titles=(\"Case 1\",\"Case 9\",\"Case 10\",\"Case 15\",\"Case 16\", \"Case 22\"))\n",
    "lasso_fig3.append_trace(go.Line(y = h1, name = 'Case 1 Pred'), 1,1)\n",
    "lasso_fig3.append_trace(go.Line(y = sq1.iloc[:,4], line=dict(color='red'), name = 'Case 1 BIS'), 1,1)\n",
    "lasso_fig3.append_trace(go.Line(y = sq1.iloc[:,5], line=dict(color='green'), name = 'Case 1 SQI'), 1,1)\n",
    "\n",
    "lasso_fig3.append_trace(go.Line(y = h2, name = 'Case 9'), 1,2)\n",
    "lasso_fig3.append_trace(go.Line(y = sq9.iloc[:,4],line=dict(color='red'), name = 'Case 9 BIS'), 1,2)\n",
    "lasso_fig3.append_trace(go.Line(y = sq9.iloc[:,5], line=dict(color='green'), name = 'Case 1 SQI'), 1,2)\n",
    "\n",
    "lasso_fig3.append_trace(go.Line(y = h3, name = 'Case 10'), 1,3)\n",
    "lasso_fig3.append_trace(go.Line(y = sq10.iloc[:,4],line=dict(color='red'), name = 'Case 10 BIS'), 1,3)\n",
    "lasso_fig3.append_trace(go.Line(y = sq10.iloc[:,5], line=dict(color='green'), name = 'Case 1 SQI'), 1,3)\n",
    "\n",
    "lasso_fig3.append_trace(go.Line(y = h4, name = 'Case 15'), 2,1)\n",
    "lasso_fig3.append_trace(go.Line(y = sq15.iloc[:,4],line=dict(color='red'), name = 'Case 15 BIS'), 2,1)\n",
    "lasso_fig3.append_trace(go.Line(y = sq15.iloc[:,5], line=dict(color='green'), name = 'Case 1 SQI'), 2,1)\n",
    "\n",
    "lasso_fig3.append_trace(go.Line(y = h5, name = 'Case 16'), 2,2)\n",
    "lasso_fig3.append_trace(go.Line(y = sq16.iloc[:,4],line=dict(color='red'), name = 'Case 16 BIS'), 2,2)\n",
    "lasso_fig3.append_trace(go.Line(y = sq16.iloc[:,5], line=dict(color='green'), name = 'Case 1 SQI'), 2,2)\n",
    "\n",
    "lasso_fig3.append_trace(go.Line(y = h6, name = 'Case 22'), 2,3)\n",
    "lasso_fig3.append_trace(go.Line(y = sq22.iloc[:,4], line=dict(color='red'), name = 'Case 22 BIS'), 2,3)\n",
    "lasso_fig3.append_trace(go.Line(y = sq22.iloc[:,5], line=dict(color='green'), name = 'Case 1 SQI'), 2,3)\n",
    "\n",
    "lasso_fig3.update_layout(title=\"LASSO Regression Model: Holdout Data Predicted & Real BIS Values w/SQI\")\n",
    "\n",
    "lasso_fig3.show()"
   ]
  },
  {
   "cell_type": "code",
   "execution_count": null,
   "metadata": {},
   "outputs": [],
   "source": [
    "\"\"\"Subplots of Predicted vs. Real BIS Scores Part 2\"\"\"\n",
    "\n",
    "lasso_fig4 = make_subplots(rows = 2, cols = 3, start_cell = 'top-left', subplot_titles=(\"Case 26\",\"Case 28\",\"Case 33\",\"Case 34\",\"Case 35\"))\n",
    "lasso_fig4.append_trace(go.Line(y = h7, name = 'Case 26 Pred'), 1,1)\n",
    "lasso_fig4.append_trace(go.Line(y = sq26.iloc[:,4], line=dict(color='red'), name = 'Case 26 BIS'), 1,1)\n",
    "lasso_fig4.append_trace(go.Line(y = sq26.iloc[:,5], line=dict(color='green'), name = 'SQI'), 1,1)\n",
    "\n",
    "lasso_fig4.append_trace(go.Line(y = h8, name = 'Case 28 Pred'), 1,2)\n",
    "lasso_fig4.append_trace(go.Line(y = sq28.iloc[:,4],line=dict(color='red'), name = 'Case 28 BIS'), 1,2)\n",
    "lasso_fig4.append_trace(go.Line(y = sq28.iloc[:,5], line=dict(color='green'), name = 'SQI'), 1,2)\n",
    "\n",
    "lasso_fig4.append_trace(go.Line(y = h9, name = 'Case 33 Pred'), 1,3)\n",
    "lasso_fig4.append_trace(go.Line(y = sq33.iloc[:,4], line=dict(color='red'),name = 'Case 33 BIS'), 1,3)\n",
    "lasso_fig4.append_trace(go.Line(y = sq33.iloc[:,5], line=dict(color='green'), name = 'SQI'), 1,3)\n",
    "\n",
    "lasso_fig4.append_trace(go.Line(y = h10, name = 'Case 34 Pred'), 2,1)\n",
    "lasso_fig4.append_trace(go.Line(y = sq34.iloc[:,4],line=dict(color='red'), name = 'Case 34 BIS'), 2,1)\n",
    "lasso_fig4.append_trace(go.Line(y = sq34.iloc[:,5], line=dict(color='green'), name = 'SQI'), 2,1)\n",
    "\n",
    "lasso_fig4.append_trace(go.Line(y = h11, name = 'Case 35 Pred'), 2,2)\n",
    "lasso_fig4.append_trace(go.Line(y = sq35.iloc[:,4], line=dict(color='red'),name = 'Case 35 BIS'), 2,2)\n",
    "lasso_fig4.append_trace(go.Line(y = sq35.iloc[:,5], line=dict(color='green'), name = 'SQI'), 2,2)\n",
    "\n",
    "lasso_fig4.update_layout(title=\"LASSO Regression Model: Holdout Data Predicted & Real BIS Values w/SQI\")\n",
    "\n",
    "lasso_fig4.show()"
   ]
  },
  {
   "cell_type": "code",
   "execution_count": null,
   "metadata": {},
   "outputs": [],
   "source": []
  }
 ],
 "metadata": {
  "kernelspec": {
   "display_name": "Python 3",
   "language": "python",
   "name": "python3"
  },
  "language_info": {
   "codemirror_mode": {
    "name": "ipython",
    "version": 3
   },
   "file_extension": ".py",
   "mimetype": "text/x-python",
   "name": "python",
   "nbconvert_exporter": "python",
   "pygments_lexer": "ipython3",
   "version": "3.7.3"
  }
 },
 "nbformat": 4,
 "nbformat_minor": 2
}
